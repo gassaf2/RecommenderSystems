{
 "cells": [
  {
   "cell_type": "markdown",
   "metadata": {},
   "source": [
    "# Course: Introduction To GenAI\n",
    "\n",
    "*Notebook: missing_values.ipynb*\n",
    "\n",
    "<a href=\"https://colab.research.google.com/github/gassaf2/RecommenderSystems/blob/main/week1/missing_values.ipynb\" target=\"_parent\"><img src=\"https://colab.research.google.com/assets/colab-badge.svg\" alt=\"Open In Colab\"/></a>"
   ]
  },
  {
   "cell_type": "markdown",
   "metadata": {
    "id": "lfSCCz4JtLAI"
   },
   "source": [
    "# Objective:\n",
    "The goal of this exercise is to predict missing ratings in the Rating.csv dataset by iteratively updating missing values using regression models like decision trees or neural networks."
   ]
  },
  {
   "cell_type": "markdown",
   "metadata": {
    "id": "N7C_GIZttRsx"
   },
   "source": [
    "# Dataset Details:\n",
    "The dataset [Download here](https://www.kaggle.com/datasets/CooperUnion/anime-recommendations-database) contains the following columns:\n",
    "\n",
    "user_id: A randomly generated user ID (non-identifiable).\n",
    "anime_id: The ID of the anime rated by the user.\n",
    "rating: The rating the user assigned to the anime (range 1-10) or -1 if the user watched the anime but didn’t provide a rating."
   ]
  },
  {
   "cell_type": "markdown",
   "metadata": {
    "id": "jNybcd64tWcz"
   },
   "source": [
    "# **# Steps for the Exercise:**\n",
    "\n",
    "# 1. Data Preparation:\n",
    "Load and Explore the Data:\n",
    "\n",
    "Load the dataset into a Pandas DataFrame.\n",
    "Explore the data to understand the structure, missing values (rating = -1), and general distribution."
   ]
  },
  {
   "cell_type": "code",
   "execution_count": 67,
   "metadata": {
    "id": "9gzQw_W2tKCi"
   },
   "outputs": [
    {
     "name": "stdout",
     "output_type": "stream",
     "text": [
      "   user_id  anime_id  rating\n",
      "0        1        20      -1\n",
      "1        1        24      -1\n",
      "2        1        79      -1\n",
      "3        1       226      -1\n",
      "4        1       241      -1\n",
      "Missing data:\n",
      "          user_id  anime_id  rating\n",
      "0              1        20      -1\n",
      "1              1        24      -1\n",
      "2              1        79      -1\n",
      "3              1       226      -1\n",
      "4              1       241      -1\n",
      "...          ...       ...     ...\n",
      "7813628    73515      2385      -1\n",
      "7813629    73515      2386      -1\n",
      "7813631    73515      2490      -1\n",
      "7813635    73515      2680      -1\n",
      "7813668    73515      5252      -1\n",
      "\n",
      "[1476496 rows x 3 columns]\n"
     ]
    }
   ],
   "source": [
    "import pandas as pd\n",
    "data = pd.read_csv('rating.csv')\n",
    "print(data.head())\n",
    "missing_data = data[data['rating'].isin([-1, None])]\n",
    "print(\"Missing data:\\n\", missing_data)"
   ]
  },
  {
   "cell_type": "markdown",
   "metadata": {
    "id": "Gy-n2oZDuLAB"
   },
   "source": [
    "# 2. Regression-Based Imputation (Iterative Approach):\n",
    "Setting Up the Regression Model:\n",
    "\n",
    "For simplicity, you can use a decision tree regression model to predict the missing values.\n",
    "Create a feature matrix (X) and target vector (y), where X consists of user_id, anime_id, and any other useful features (like user averages), and y is the rating."
   ]
  },
  {
   "cell_type": "code",
   "execution_count": 68,
   "metadata": {
    "id": "G8nfdecJuVqF"
   },
   "outputs": [],
   "source": [
    "from sklearn.model_selection import train_test_split\n",
    "from sklearn.tree import DecisionTreeRegressor\n",
    "\n",
    "# Feature Engineering: Add user-based averages or anime-based averages\n",
    "data['user_avg_rating'] = data.groupby('user_id')['rating'].transform('mean')\n",
    "data['anime_avg_rating'] = data.groupby('anime_id')['rating'].transform('mean')\n",
    "\n",
    "# Filter out missing data (where rating == -1, treated as missing)\n",
    "#train_data = data[data['rating'] != -1]\n",
    "train_data = data.drop(missing_data.index)\n",
    "\n",
    "# Features: user_id, anime_id, user_avg_rating, anime_avg_rating\n",
    "X = train_data[['user_id', 'anime_id', 'user_avg_rating', 'anime_avg_rating']]\n",
    "y= train_data['rating']\n",
    "\n",
    "# Train-test split (to ensure good model performance evaluation)\n",
    "X_train, X_test, y_train, y_test = train_test_split(X, y, test_size=0.2, random_state=42)"
   ]
  },
  {
   "cell_type": "code",
   "execution_count": 42,
   "metadata": {},
   "outputs": [
    {
     "data": {
      "text/html": [
       "<div>\n",
       "<style scoped>\n",
       "    .dataframe tbody tr th:only-of-type {\n",
       "        vertical-align: middle;\n",
       "    }\n",
       "\n",
       "    .dataframe tbody tr th {\n",
       "        vertical-align: top;\n",
       "    }\n",
       "\n",
       "    .dataframe thead th {\n",
       "        text-align: right;\n",
       "    }\n",
       "</style>\n",
       "<table border=\"1\" class=\"dataframe\">\n",
       "  <thead>\n",
       "    <tr style=\"text-align: right;\">\n",
       "      <th></th>\n",
       "      <th>user_id</th>\n",
       "      <th>anime_id</th>\n",
       "      <th>rating</th>\n",
       "      <th>user_avg_rating</th>\n",
       "      <th>anime_avg_rating</th>\n",
       "    </tr>\n",
       "  </thead>\n",
       "  <tbody>\n",
       "    <tr>\n",
       "      <th>0</th>\n",
       "      <td>1</td>\n",
       "      <td>20</td>\n",
       "      <td>-1</td>\n",
       "      <td>-0.640523</td>\n",
       "      <td>6.641967</td>\n",
       "    </tr>\n",
       "    <tr>\n",
       "      <th>1</th>\n",
       "      <td>1</td>\n",
       "      <td>24</td>\n",
       "      <td>-1</td>\n",
       "      <td>-0.640523</td>\n",
       "      <td>6.791696</td>\n",
       "    </tr>\n",
       "    <tr>\n",
       "      <th>2</th>\n",
       "      <td>1</td>\n",
       "      <td>79</td>\n",
       "      <td>-1</td>\n",
       "      <td>-0.640523</td>\n",
       "      <td>6.099128</td>\n",
       "    </tr>\n",
       "    <tr>\n",
       "      <th>3</th>\n",
       "      <td>1</td>\n",
       "      <td>226</td>\n",
       "      <td>-1</td>\n",
       "      <td>-0.640523</td>\n",
       "      <td>6.804843</td>\n",
       "    </tr>\n",
       "    <tr>\n",
       "      <th>4</th>\n",
       "      <td>1</td>\n",
       "      <td>241</td>\n",
       "      <td>-1</td>\n",
       "      <td>-0.640523</td>\n",
       "      <td>5.426316</td>\n",
       "    </tr>\n",
       "    <tr>\n",
       "      <th>...</th>\n",
       "      <td>...</td>\n",
       "      <td>...</td>\n",
       "      <td>...</td>\n",
       "      <td>...</td>\n",
       "      <td>...</td>\n",
       "    </tr>\n",
       "    <tr>\n",
       "      <th>7813732</th>\n",
       "      <td>73515</td>\n",
       "      <td>16512</td>\n",
       "      <td>7</td>\n",
       "      <td>7.841837</td>\n",
       "      <td>5.802797</td>\n",
       "    </tr>\n",
       "    <tr>\n",
       "      <th>7813733</th>\n",
       "      <td>73515</td>\n",
       "      <td>17187</td>\n",
       "      <td>9</td>\n",
       "      <td>7.841837</td>\n",
       "      <td>6.179376</td>\n",
       "    </tr>\n",
       "    <tr>\n",
       "      <th>7813734</th>\n",
       "      <td>73515</td>\n",
       "      <td>22145</td>\n",
       "      <td>10</td>\n",
       "      <td>7.841837</td>\n",
       "      <td>6.257336</td>\n",
       "    </tr>\n",
       "    <tr>\n",
       "      <th>7813735</th>\n",
       "      <td>73516</td>\n",
       "      <td>790</td>\n",
       "      <td>9</td>\n",
       "      <td>9.000000</td>\n",
       "      <td>6.988754</td>\n",
       "    </tr>\n",
       "    <tr>\n",
       "      <th>7813736</th>\n",
       "      <td>73516</td>\n",
       "      <td>8074</td>\n",
       "      <td>9</td>\n",
       "      <td>9.000000</td>\n",
       "      <td>6.375374</td>\n",
       "    </tr>\n",
       "  </tbody>\n",
       "</table>\n",
       "<p>7813737 rows × 5 columns</p>\n",
       "</div>"
      ],
      "text/plain": [
       "         user_id  anime_id  rating  user_avg_rating  anime_avg_rating\n",
       "0              1        20      -1        -0.640523          6.641967\n",
       "1              1        24      -1        -0.640523          6.791696\n",
       "2              1        79      -1        -0.640523          6.099128\n",
       "3              1       226      -1        -0.640523          6.804843\n",
       "4              1       241      -1        -0.640523          5.426316\n",
       "...          ...       ...     ...              ...               ...\n",
       "7813732    73515     16512       7         7.841837          5.802797\n",
       "7813733    73515     17187       9         7.841837          6.179376\n",
       "7813734    73515     22145      10         7.841837          6.257336\n",
       "7813735    73516       790       9         9.000000          6.988754\n",
       "7813736    73516      8074       9         9.000000          6.375374\n",
       "\n",
       "[7813737 rows x 5 columns]"
      ]
     },
     "execution_count": 42,
     "metadata": {},
     "output_type": "execute_result"
    }
   ],
   "source": [
    "train_data"
   ]
  },
  {
   "cell_type": "markdown",
   "metadata": {
    "id": "PWPGv0sVudyp"
   },
   "source": [
    "# 3. Train a Regression Model (Decision Tree in this case):"
   ]
  },
  {
   "cell_type": "code",
   "execution_count": 43,
   "metadata": {
    "id": "SOZnZjEwuh_T"
   },
   "outputs": [
    {
     "name": "stdout",
     "output_type": "stream",
     "text": [
      "Model R-squared score: 0.33275694336166584\n"
     ]
    }
   ],
   "source": [
    "# Train the Decision Tree Regressor model\n",
    "model = DecisionTreeRegressor(random_state=42)\n",
    "model.fit(X_train, y_train)\n",
    "\n",
    "# Evaluate model performance\n",
    "score = model.score(X_test, y_test)\n",
    "print(f\"Model R-squared score: {score}\")"
   ]
  },
  {
   "cell_type": "markdown",
   "metadata": {
    "id": "0TDzOg8zukU6"
   },
   "source": [
    "# 4. Impute Missing Values Using the Trained Model:\n",
    "\n",
    "For each missing rating, predict it using the trained regression model.\n"
   ]
  },
  {
   "cell_type": "code",
   "execution_count": 44,
   "metadata": {
    "id": "i_E78dRbus30"
   },
   "outputs": [
    {
     "name": "stdout",
     "output_type": "stream",
     "text": [
      "\n",
      "Updated DataFrame with predicted ratings:\n",
      "          user_id  anime_id  rating  user_avg_rating  anime_avg_rating\n",
      "0              1        20      -1        -0.640523          6.641967\n",
      "1              1        24      -1        -0.640523          6.791696\n",
      "2              1        79      -1        -0.640523          6.099128\n",
      "3              1       226      -1        -0.640523          6.804843\n",
      "4              1       241      -1        -0.640523          5.426316\n",
      "...          ...       ...     ...              ...               ...\n",
      "7813732    73515     16512       7         7.841837          5.802797\n",
      "7813733    73515     17187       9         7.841837          6.179376\n",
      "7813734    73515     22145      10         7.841837          6.257336\n",
      "7813735    73516       790       9         9.000000          6.988754\n",
      "7813736    73516      8074       9         9.000000          6.375374\n",
      "\n",
      "[7813737 rows x 5 columns]\n"
     ]
    }
   ],
   "source": [
    "# Now, predict ratings for the missing data (where rating == -1 or NaN)\n",
    "missing_data = data[data['rating'].isin([-1, None])]  # Treat both -1 and NaN as missing\n",
    "\n",
    "# Predict the missing ratings\n",
    "predicted_ratings = model.predict(missing_data[['user_id', 'anime_id', 'user_avg_rating', 'anime_avg_rating']])\n",
    "\n",
    "# Update the DataFrame with the predicted ratings for missing values\n",
    "data.loc[missing_data.index, 'rating'] = predicted_ratings\n",
    "\n",
    "# Output the updated DataFrame\n",
    "print(\"\\nUpdated DataFrame with predicted ratings:\\n\", data)"
   ]
  },
  {
   "cell_type": "markdown",
   "metadata": {
    "id": "0BoOMu29uwr8"
   },
   "source": [
    "# 5. Repeat the Process:\n",
    "\n",
    "After updating the ratings, you can re-train the model with the newly imputed data and predict again, improving the quality of the imputed values."
   ]
  },
  {
   "cell_type": "code",
   "execution_count": 45,
   "metadata": {},
   "outputs": [
    {
     "data": {
      "text/html": [
       "<div>\n",
       "<style scoped>\n",
       "    .dataframe tbody tr th:only-of-type {\n",
       "        vertical-align: middle;\n",
       "    }\n",
       "\n",
       "    .dataframe tbody tr th {\n",
       "        vertical-align: top;\n",
       "    }\n",
       "\n",
       "    .dataframe thead th {\n",
       "        text-align: right;\n",
       "    }\n",
       "</style>\n",
       "<table border=\"1\" class=\"dataframe\">\n",
       "  <thead>\n",
       "    <tr style=\"text-align: right;\">\n",
       "      <th></th>\n",
       "      <th>user_id</th>\n",
       "      <th>anime_id</th>\n",
       "      <th>rating</th>\n",
       "      <th>user_avg_rating</th>\n",
       "      <th>anime_avg_rating</th>\n",
       "    </tr>\n",
       "  </thead>\n",
       "  <tbody>\n",
       "    <tr>\n",
       "      <th>0</th>\n",
       "      <td>1</td>\n",
       "      <td>20</td>\n",
       "      <td>-1</td>\n",
       "      <td>-0.640523</td>\n",
       "      <td>6.641967</td>\n",
       "    </tr>\n",
       "    <tr>\n",
       "      <th>1</th>\n",
       "      <td>1</td>\n",
       "      <td>24</td>\n",
       "      <td>-1</td>\n",
       "      <td>-0.640523</td>\n",
       "      <td>6.791696</td>\n",
       "    </tr>\n",
       "    <tr>\n",
       "      <th>2</th>\n",
       "      <td>1</td>\n",
       "      <td>79</td>\n",
       "      <td>-1</td>\n",
       "      <td>-0.640523</td>\n",
       "      <td>6.099128</td>\n",
       "    </tr>\n",
       "    <tr>\n",
       "      <th>3</th>\n",
       "      <td>1</td>\n",
       "      <td>226</td>\n",
       "      <td>-1</td>\n",
       "      <td>-0.640523</td>\n",
       "      <td>6.804843</td>\n",
       "    </tr>\n",
       "    <tr>\n",
       "      <th>4</th>\n",
       "      <td>1</td>\n",
       "      <td>241</td>\n",
       "      <td>-1</td>\n",
       "      <td>-0.640523</td>\n",
       "      <td>5.426316</td>\n",
       "    </tr>\n",
       "    <tr>\n",
       "      <th>...</th>\n",
       "      <td>...</td>\n",
       "      <td>...</td>\n",
       "      <td>...</td>\n",
       "      <td>...</td>\n",
       "      <td>...</td>\n",
       "    </tr>\n",
       "    <tr>\n",
       "      <th>7813603</th>\n",
       "      <td>73515</td>\n",
       "      <td>1237</td>\n",
       "      <td>-1</td>\n",
       "      <td>7.841837</td>\n",
       "      <td>5.033461</td>\n",
       "    </tr>\n",
       "    <tr>\n",
       "      <th>7813604</th>\n",
       "      <td>73515</td>\n",
       "      <td>1238</td>\n",
       "      <td>-1</td>\n",
       "      <td>7.841837</td>\n",
       "      <td>5.173737</td>\n",
       "    </tr>\n",
       "    <tr>\n",
       "      <th>7813623</th>\n",
       "      <td>73515</td>\n",
       "      <td>2020</td>\n",
       "      <td>-1</td>\n",
       "      <td>7.841837</td>\n",
       "      <td>5.228471</td>\n",
       "    </tr>\n",
       "    <tr>\n",
       "      <th>7813628</th>\n",
       "      <td>73515</td>\n",
       "      <td>2385</td>\n",
       "      <td>-1</td>\n",
       "      <td>7.841837</td>\n",
       "      <td>5.332016</td>\n",
       "    </tr>\n",
       "    <tr>\n",
       "      <th>7813635</th>\n",
       "      <td>73515</td>\n",
       "      <td>2680</td>\n",
       "      <td>-1</td>\n",
       "      <td>7.841837</td>\n",
       "      <td>5.552036</td>\n",
       "    </tr>\n",
       "  </tbody>\n",
       "</table>\n",
       "<p>1391347 rows × 5 columns</p>\n",
       "</div>"
      ],
      "text/plain": [
       "         user_id  anime_id  rating  user_avg_rating  anime_avg_rating\n",
       "0              1        20      -1        -0.640523          6.641967\n",
       "1              1        24      -1        -0.640523          6.791696\n",
       "2              1        79      -1        -0.640523          6.099128\n",
       "3              1       226      -1        -0.640523          6.804843\n",
       "4              1       241      -1        -0.640523          5.426316\n",
       "...          ...       ...     ...              ...               ...\n",
       "7813603    73515      1237      -1         7.841837          5.033461\n",
       "7813604    73515      1238      -1         7.841837          5.173737\n",
       "7813623    73515      2020      -1         7.841837          5.228471\n",
       "7813628    73515      2385      -1         7.841837          5.332016\n",
       "7813635    73515      2680      -1         7.841837          5.552036\n",
       "\n",
       "[1391347 rows x 5 columns]"
      ]
     },
     "execution_count": 45,
     "metadata": {},
     "output_type": "execute_result"
    }
   ],
   "source": [
    " missing_data = data[data['rating'].isin([-1, None])]  # Treat both -1 and NaN as missing\n",
    "missing_data"
   ]
  },
  {
   "cell_type": "code",
   "execution_count": 52,
   "metadata": {},
   "outputs": [
    {
     "data": {
      "text/html": [
       "<div>\n",
       "<style scoped>\n",
       "    .dataframe tbody tr th:only-of-type {\n",
       "        vertical-align: middle;\n",
       "    }\n",
       "\n",
       "    .dataframe tbody tr th {\n",
       "        vertical-align: top;\n",
       "    }\n",
       "\n",
       "    .dataframe thead th {\n",
       "        text-align: right;\n",
       "    }\n",
       "</style>\n",
       "<table border=\"1\" class=\"dataframe\">\n",
       "  <thead>\n",
       "    <tr style=\"text-align: right;\">\n",
       "      <th></th>\n",
       "      <th>user_id</th>\n",
       "      <th>anime_id</th>\n",
       "      <th>rating</th>\n",
       "      <th>user_avg_rating</th>\n",
       "      <th>anime_avg_rating</th>\n",
       "    </tr>\n",
       "  </thead>\n",
       "  <tbody>\n",
       "    <tr>\n",
       "      <th>0</th>\n",
       "      <td>1</td>\n",
       "      <td>20</td>\n",
       "      <td>-1</td>\n",
       "      <td>-0.640523</td>\n",
       "      <td>6.641967</td>\n",
       "    </tr>\n",
       "    <tr>\n",
       "      <th>1</th>\n",
       "      <td>1</td>\n",
       "      <td>24</td>\n",
       "      <td>-1</td>\n",
       "      <td>-0.640523</td>\n",
       "      <td>6.791696</td>\n",
       "    </tr>\n",
       "    <tr>\n",
       "      <th>2</th>\n",
       "      <td>1</td>\n",
       "      <td>79</td>\n",
       "      <td>-1</td>\n",
       "      <td>-0.640523</td>\n",
       "      <td>6.099128</td>\n",
       "    </tr>\n",
       "    <tr>\n",
       "      <th>3</th>\n",
       "      <td>1</td>\n",
       "      <td>226</td>\n",
       "      <td>-1</td>\n",
       "      <td>-0.640523</td>\n",
       "      <td>6.804843</td>\n",
       "    </tr>\n",
       "    <tr>\n",
       "      <th>4</th>\n",
       "      <td>1</td>\n",
       "      <td>241</td>\n",
       "      <td>-1</td>\n",
       "      <td>-0.640523</td>\n",
       "      <td>5.426316</td>\n",
       "    </tr>\n",
       "    <tr>\n",
       "      <th>...</th>\n",
       "      <td>...</td>\n",
       "      <td>...</td>\n",
       "      <td>...</td>\n",
       "      <td>...</td>\n",
       "      <td>...</td>\n",
       "    </tr>\n",
       "    <tr>\n",
       "      <th>7813603</th>\n",
       "      <td>73515</td>\n",
       "      <td>1237</td>\n",
       "      <td>-1</td>\n",
       "      <td>7.841837</td>\n",
       "      <td>5.033461</td>\n",
       "    </tr>\n",
       "    <tr>\n",
       "      <th>7813604</th>\n",
       "      <td>73515</td>\n",
       "      <td>1238</td>\n",
       "      <td>-1</td>\n",
       "      <td>7.841837</td>\n",
       "      <td>5.173737</td>\n",
       "    </tr>\n",
       "    <tr>\n",
       "      <th>7813623</th>\n",
       "      <td>73515</td>\n",
       "      <td>2020</td>\n",
       "      <td>-1</td>\n",
       "      <td>7.841837</td>\n",
       "      <td>5.228471</td>\n",
       "    </tr>\n",
       "    <tr>\n",
       "      <th>7813628</th>\n",
       "      <td>73515</td>\n",
       "      <td>2385</td>\n",
       "      <td>-1</td>\n",
       "      <td>7.841837</td>\n",
       "      <td>5.332016</td>\n",
       "    </tr>\n",
       "    <tr>\n",
       "      <th>7813635</th>\n",
       "      <td>73515</td>\n",
       "      <td>2680</td>\n",
       "      <td>-1</td>\n",
       "      <td>7.841837</td>\n",
       "      <td>5.552036</td>\n",
       "    </tr>\n",
       "  </tbody>\n",
       "</table>\n",
       "<p>1391347 rows × 5 columns</p>\n",
       "</div>"
      ],
      "text/plain": [
       "         user_id  anime_id  rating  user_avg_rating  anime_avg_rating\n",
       "0              1        20      -1        -0.640523          6.641967\n",
       "1              1        24      -1        -0.640523          6.791696\n",
       "2              1        79      -1        -0.640523          6.099128\n",
       "3              1       226      -1        -0.640523          6.804843\n",
       "4              1       241      -1        -0.640523          5.426316\n",
       "...          ...       ...     ...              ...               ...\n",
       "7813603    73515      1237      -1         7.841837          5.033461\n",
       "7813604    73515      1238      -1         7.841837          5.173737\n",
       "7813623    73515      2020      -1         7.841837          5.228471\n",
       "7813628    73515      2385      -1         7.841837          5.332016\n",
       "7813635    73515      2680      -1         7.841837          5.552036\n",
       "\n",
       "[1391347 rows x 5 columns]"
      ]
     },
     "execution_count": 52,
     "metadata": {},
     "output_type": "execute_result"
    }
   ],
   "source": [
    " missing_data = data[data['rating'].isin([-1, None])]  # Treat both -1 and NaN as missing\n",
    "missing_data"
   ]
  },
  {
   "cell_type": "code",
   "execution_count": 69,
   "metadata": {},
   "outputs": [
    {
     "name": "stdout",
     "output_type": "stream",
     "text": [
      "no more missing value at the iteration 1\n"
     ]
    }
   ],
   "source": [
    "max_iterations = 5\n",
    "for i in range(max_iterations):\n",
    "    missing_data = data[data['rating'].isin([-1, None])]  # Treat both -1 and NaN as missing\n",
    "\n",
    "    train_data = data.drop(missing_data.index)\n",
    "    X = train_data[['user_id', 'anime_id', 'user_avg_rating', 'anime_avg_rating']]\n",
    "    y = train_data['rating']\n",
    "    model.fit(X, y)\n",
    "\n",
    "    #missing_data = data[data['rating'].isin([-1, None])]  # Treat both -1 and NaN as missing\n",
    "    if missing_data.empty:\n",
    "        print(f\"no more missing value at the iteration {i}\")\n",
    "        break;\n",
    "    \n",
    "    pred_rating=model.predict(missing_data[['user_id', 'anime_id', 'user_avg_rating', 'anime_avg_rating']])\n",
    "    data.loc[missing_data.index,'rating'] = pred_rating"
   ]
  },
  {
   "cell_type": "code",
   "execution_count": 64,
   "metadata": {},
   "outputs": [
    {
     "data": {
      "text/html": [
       "<div>\n",
       "<style scoped>\n",
       "    .dataframe tbody tr th:only-of-type {\n",
       "        vertical-align: middle;\n",
       "    }\n",
       "\n",
       "    .dataframe tbody tr th {\n",
       "        vertical-align: top;\n",
       "    }\n",
       "\n",
       "    .dataframe thead th {\n",
       "        text-align: right;\n",
       "    }\n",
       "</style>\n",
       "<table border=\"1\" class=\"dataframe\">\n",
       "  <thead>\n",
       "    <tr style=\"text-align: right;\">\n",
       "      <th></th>\n",
       "      <th>user_id</th>\n",
       "      <th>anime_id</th>\n",
       "      <th>rating</th>\n",
       "      <th>user_avg_rating</th>\n",
       "      <th>anime_avg_rating</th>\n",
       "    </tr>\n",
       "  </thead>\n",
       "  <tbody>\n",
       "  </tbody>\n",
       "</table>\n",
       "</div>"
      ],
      "text/plain": [
       "Empty DataFrame\n",
       "Columns: [user_id, anime_id, rating, user_avg_rating, anime_avg_rating]\n",
       "Index: []"
      ]
     },
     "execution_count": 64,
     "metadata": {},
     "output_type": "execute_result"
    }
   ],
   "source": [
    "missing_data"
   ]
  },
  {
   "cell_type": "raw",
   "metadata": {
    "id": "X-F3VE01xkGy"
   },
   "source": [
    "# Iterative imputation process\n",
    "max_iterations = 5  # Set the number of iterations for improving predictions\n",
    "\n",
    "for i in range(max_iterations):\n",
    "    # Now, predict ratings for the missing data (where rating == -1 or NaN)\n",
    "    missing_data = data[data['rating'].isin([-1, None])]  # Treat both -1 and NaN as missing\n",
    "\n",
    "    # Predict the missing ratings\n",
    "   # predicted_ratings = model.predict(missing_data[['user_id', 'anime_id', 'user_avg_rating', 'anime_avg_rating']])\n",
    "\n",
    "    # Update the DataFrame with the predicted ratings for missing values\n",
    "    data.loc[missing_data.index, 'rating'] = predicted_ratings\n",
    "\n",
    "    # Re-train the model with the updated data (including the imputed values)\n",
    "\n",
    "\n",
    "    # Re-train the model on the updated data\n",
    "    model.fit(X, y)\n"
   ]
  },
  {
   "cell_type": "code",
   "execution_count": 62,
   "metadata": {
    "id": "BOkKEZzg0-20"
   },
   "outputs": [
    {
     "name": "stdout",
     "output_type": "stream",
     "text": [
      "\n",
      "Final Updated DataFrame with Imputed Ratings:\n",
      "   user_id  anime_id  rating\n",
      "0        1        20       5\n",
      "1        1        24       4\n",
      "2        1        79       5\n",
      "3        1       226       4\n",
      "4        1       241      10\n"
     ]
    }
   ],
   "source": [
    "# After completing the iterations, print the final updated values\n",
    "print(\"\\nFinal Updated DataFrame with Imputed Ratings:\")\n",
    "print(data[['user_id', 'anime_id', 'rating']].head())  # Print the top rows with updated ratings for review"
   ]
  },
  {
   "cell_type": "markdown",
   "metadata": {
    "id": "6OGtlUI9vDGi"
   },
   "source": [
    "# 6. Evaluation:\n",
    "Measure Accuracy:\n",
    "\n",
    "After filling in missing ratings, evaluate how well the model performs on the imputed ratings.\n",
    "Use a root mean squared error (RMSE) or mean absolute error (MAE) to measure prediction accuracy."
   ]
  },
  {
   "cell_type": "code",
   "execution_count": 63,
   "metadata": {
    "id": "AbJHhMMgvG8k"
   },
   "outputs": [
    {
     "name": "stdout",
     "output_type": "stream",
     "text": [
      "RMSE of model: 3.2369718648648376\n"
     ]
    }
   ],
   "source": [
    "from sklearn.metrics import mean_absolute_error, mean_squared_error\n",
    "import numpy as np\n",
    "\n",
    "rmse = np.sqrt(mean_squared_error(y_test, model.predict(X_test)))\n",
    "print(f\"RMSE of model: {rmse}\")"
   ]
  },
  {
   "cell_type": "code",
   "execution_count": null,
   "metadata": {},
   "outputs": [],
   "source": []
  }
 ],
 "metadata": {
  "accelerator": "GPU",
  "colab": {
   "gpuType": "T4",
   "provenance": []
  },
  "kernelspec": {
   "display_name": "Python 3 (ipykernel)",
   "language": "python",
   "name": "python3"
  },
  "language_info": {
   "codemirror_mode": {
    "name": "ipython",
    "version": 3
   },
   "file_extension": ".py",
   "mimetype": "text/x-python",
   "name": "python",
   "nbconvert_exporter": "python",
   "pygments_lexer": "ipython3",
   "version": "3.10.13"
  }
 },
 "nbformat": 4,
 "nbformat_minor": 4
}
