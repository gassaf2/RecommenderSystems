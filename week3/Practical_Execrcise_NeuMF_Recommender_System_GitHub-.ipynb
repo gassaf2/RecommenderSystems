{
 "cells": [
  {
   "cell_type": "code",
   "execution_count": 1,
   "metadata": {},
   "outputs": [],
   "source": [
    "#!pip install py2neo\n",
    "#!pip install neo4j\n",
    "#!pip install neo4j\n",
    "#!pip install neo4jupyter\n",
    "#!pip install openpyxl --upgrade\n",
    "\n",
    "#!pip install tf_geometric "
   ]
  },
  {
   "cell_type": "markdown",
   "metadata": {},
   "source": [
    "# Course: Recommender Systems/Week 3\n",
    "#Notebook Description: Practical Exercise (NeuMF part)\n",
    "\n",
    "*Notebook: Practical_Execrcise_NeuMF_Recommender_System_GitHub-.ipynb*\n",
    "\n",
    "<a href=\"https://colab.research.google.com/github/gassaf2/RecommenderSystems/blob/main/week3/Practical_Execrcise_NeuMF_Recommender_System_GitHub-.ipynb\" target=\"_parent\"><img src=\"https://colab.research.google.com/assets/colab-badge.svg\" alt=\"Open In Colab\"/></a>"
   ]
  },
  {
   "cell_type": "markdown",
   "metadata": {},
   "source": [
    "# NewMF"
   ]
  },
  {
   "cell_type": "code",
   "execution_count": 2,
   "metadata": {},
   "outputs": [],
   "source": [
    "#!pip install \"numpy==2.0.2\"\n",
    "#!pip install pybind11 --upgrade\n",
    "#!pip install --upgrade torch-scatter torch-sparse torch-geometric\n",
    "#!pip install \"numpy<2.0\""
   ]
  },
  {
   "cell_type": "code",
   "execution_count": 3,
   "metadata": {},
   "outputs": [
    {
     "name": "stdout",
     "output_type": "stream",
     "text": [
      "WARNING:tensorflow:From C:\\Users\\gassaf\\Documents\\3_Personal_Documents\\LAU\\Course11_Recommender_Systems\\Final_Project\\pyenv_310\\lib\\site-packages\\keras\\src\\losses.py:2976: The name tf.losses.sparse_softmax_cross_entropy is deprecated. Please use tf.compat.v1.losses.sparse_softmax_cross_entropy instead.\n",
      "\n"
     ]
    }
   ],
   "source": [
    "import tensorflow as tf\n",
    "tf.get_logger().setLevel('ERROR') # only show error messages"
   ]
  },
  {
   "cell_type": "code",
   "execution_count": 4,
   "metadata": {},
   "outputs": [
    {
     "name": "stdout",
     "output_type": "stream",
     "text": [
      "A\n"
     ]
    }
   ],
   "source": [
    "print(\"A\")"
   ]
  },
  {
   "cell_type": "code",
   "execution_count": 5,
   "metadata": {},
   "outputs": [
    {
     "name": "stdout",
     "output_type": "stream",
     "text": [
      "Num GPUs Available: 0\n",
      "GPU Devices: []\n"
     ]
    }
   ],
   "source": [
    "\n",
    "print(\"Num GPUs Available:\", len(tf.config.list_physical_devices('GPU')))\n",
    "print(\"GPU Devices:\", tf.config.list_physical_devices('GPU'))\n",
    "\n"
   ]
  },
  {
   "cell_type": "code",
   "execution_count": 6,
   "metadata": {},
   "outputs": [],
   "source": [
    "import sys\n",
    "import pandas as pd\n",
    "\n",
    "\n",
    "#import tensorflow as tf\n",
    "#tf.get_logger().setLevel('ERROR') # only show error messages\n",
    "\n",
    "from recommenders.utils.timer import Timer\n",
    "from recommenders.models.ncf.ncf_singlenode import NCF\n",
    "from recommenders.models.ncf.dataset import Dataset as NCFDataset\n",
    "#from recommenders.datasets import movielens\n",
    "from recommenders.utils.notebook_utils import is_jupyter\n",
    "from recommenders.datasets.python_splitters import python_chrono_split,python_stratified_split\n",
    "from recommenders.evaluation.python_evaluation import (rmse, mae, rsquared, exp_var, map_at_k, ndcg_at_k, precision_at_k, \n",
    "                                                     recall_at_k, get_top_k_items)\n",
    "\n"
   ]
  },
  {
   "cell_type": "raw",
   "metadata": {},
   "source": [
    "!pip install recommenders\n",
    "!pip install tf_slim\n",
    "!pip install recommenders[gpu]"
   ]
  },
  {
   "cell_type": "code",
   "execution_count": 7,
   "metadata": {},
   "outputs": [],
   "source": [
    "df = pd.read_excel('Rec_sys_data.xlsx')"
   ]
  },
  {
   "cell_type": "code",
   "execution_count": 8,
   "metadata": {},
   "outputs": [],
   "source": [
    "\n",
    "df= df[['CustomerID','StockCode','Quantity','DeliveryDate']]"
   ]
  },
  {
   "cell_type": "code",
   "execution_count": 9,
   "metadata": {},
   "outputs": [],
   "source": [
    "\n",
    "df[\"StockCode\"] = df[\"StockCode\"].apply(lambda x: pd.to_numeric(x, errors='coerce')).dropna()"
   ]
  },
  {
   "cell_type": "code",
   "execution_count": null,
   "metadata": {},
   "outputs": [],
   "source": []
  },
  {
   "cell_type": "code",
   "execution_count": 10,
   "metadata": {},
   "outputs": [
    {
     "name": "stdout",
     "output_type": "stream",
     "text": [
      "(246706, 4)\n"
     ]
    },
    {
     "data": {
      "text/html": [
       "<div>\n",
       "<style scoped>\n",
       "    .dataframe tbody tr th:only-of-type {\n",
       "        vertical-align: middle;\n",
       "    }\n",
       "\n",
       "    .dataframe tbody tr th {\n",
       "        vertical-align: top;\n",
       "    }\n",
       "\n",
       "    .dataframe thead th {\n",
       "        text-align: right;\n",
       "    }\n",
       "</style>\n",
       "<table border=\"1\" class=\"dataframe\">\n",
       "  <thead>\n",
       "    <tr style=\"text-align: right;\">\n",
       "      <th></th>\n",
       "      <th>CustomerID</th>\n",
       "      <th>StockCode</th>\n",
       "      <th>Quantity</th>\n",
       "      <th>DeliveryDate</th>\n",
       "    </tr>\n",
       "  </thead>\n",
       "  <tbody>\n",
       "    <tr>\n",
       "      <th>1</th>\n",
       "      <td>17850</td>\n",
       "      <td>71053.0</td>\n",
       "      <td>6</td>\n",
       "      <td>2010-12-02 08:26:00</td>\n",
       "    </tr>\n",
       "    <tr>\n",
       "      <th>2</th>\n",
       "      <td>17850</td>\n",
       "      <td>21730.0</td>\n",
       "      <td>6</td>\n",
       "      <td>2010-12-03 08:26:00</td>\n",
       "    </tr>\n",
       "    <tr>\n",
       "      <th>4</th>\n",
       "      <td>17850</td>\n",
       "      <td>22752.0</td>\n",
       "      <td>2</td>\n",
       "      <td>2010-12-04 08:26:00</td>\n",
       "    </tr>\n",
       "    <tr>\n",
       "      <th>7</th>\n",
       "      <td>17850</td>\n",
       "      <td>22633.0</td>\n",
       "      <td>6</td>\n",
       "      <td>2010-12-04 08:28:00</td>\n",
       "    </tr>\n",
       "    <tr>\n",
       "      <th>8</th>\n",
       "      <td>17850</td>\n",
       "      <td>22632.0</td>\n",
       "      <td>6</td>\n",
       "      <td>2010-12-03 08:28:00</td>\n",
       "    </tr>\n",
       "    <tr>\n",
       "      <th>...</th>\n",
       "      <td>...</td>\n",
       "      <td>...</td>\n",
       "      <td>...</td>\n",
       "      <td>...</td>\n",
       "    </tr>\n",
       "    <tr>\n",
       "      <th>272399</th>\n",
       "      <td>15249</td>\n",
       "      <td>23399.0</td>\n",
       "      <td>12</td>\n",
       "      <td>2011-10-08 11:37:00</td>\n",
       "    </tr>\n",
       "    <tr>\n",
       "      <th>272400</th>\n",
       "      <td>15249</td>\n",
       "      <td>22727.0</td>\n",
       "      <td>4</td>\n",
       "      <td>2011-10-08 11:37:00</td>\n",
       "    </tr>\n",
       "    <tr>\n",
       "      <th>272401</th>\n",
       "      <td>15249</td>\n",
       "      <td>23434.0</td>\n",
       "      <td>12</td>\n",
       "      <td>2011-10-08 11:37:00</td>\n",
       "    </tr>\n",
       "    <tr>\n",
       "      <th>272402</th>\n",
       "      <td>15249</td>\n",
       "      <td>23340.0</td>\n",
       "      <td>12</td>\n",
       "      <td>2011-10-07 11:37:00</td>\n",
       "    </tr>\n",
       "    <tr>\n",
       "      <th>272403</th>\n",
       "      <td>15249</td>\n",
       "      <td>23209.0</td>\n",
       "      <td>10</td>\n",
       "      <td>2011-10-08 11:37:00</td>\n",
       "    </tr>\n",
       "  </tbody>\n",
       "</table>\n",
       "<p>246706 rows × 4 columns</p>\n",
       "</div>"
      ],
      "text/plain": [
       "        CustomerID  StockCode  Quantity        DeliveryDate\n",
       "1            17850    71053.0         6 2010-12-02 08:26:00\n",
       "2            17850    21730.0         6 2010-12-03 08:26:00\n",
       "4            17850    22752.0         2 2010-12-04 08:26:00\n",
       "7            17850    22633.0         6 2010-12-04 08:28:00\n",
       "8            17850    22632.0         6 2010-12-03 08:28:00\n",
       "...            ...        ...       ...                 ...\n",
       "272399       15249    23399.0        12 2011-10-08 11:37:00\n",
       "272400       15249    22727.0         4 2011-10-08 11:37:00\n",
       "272401       15249    23434.0        12 2011-10-08 11:37:00\n",
       "272402       15249    23340.0        12 2011-10-07 11:37:00\n",
       "272403       15249    23209.0        10 2011-10-08 11:37:00\n",
       "\n",
       "[246706 rows x 4 columns]"
      ]
     },
     "execution_count": 10,
     "metadata": {},
     "output_type": "execute_result"
    }
   ],
   "source": [
    "df = df.dropna()\n",
    "print(df.shape)\n",
    "df"
   ]
  },
  {
   "cell_type": "code",
   "execution_count": 11,
   "metadata": {},
   "outputs": [],
   "source": [
    "#header=[\"userID\", \"itemID\", \"rating\", \"timestamp\"]\n",
    "\n",
    "df = df.rename(columns={\n",
    "\n",
    "    'CustomerID':\"userID\",'StockCode':\"itemID\",'Quantity':\"rating\",'DeliveryDate':\"timestamp\"\n",
    "\n",
    "})\n",
    "\n",
    "df[\"userID\"] = df[\"userID\"].astype(int)\n",
    "df[\"itemID\"] = df[\"itemID\"].astype(int)"
   ]
  },
  {
   "cell_type": "code",
   "execution_count": 12,
   "metadata": {},
   "outputs": [],
   "source": [
    "train, test = python_chrono_split(df, 0.75)"
   ]
  },
  {
   "cell_type": "code",
   "execution_count": 13,
   "metadata": {},
   "outputs": [],
   "source": [
    "train_file = \"./train.csv\"\n",
    "test_file = \"./test.csv\"\n",
    "train.to_csv(train_file, index=False)\n",
    "test.to_csv(test_file, index=False)"
   ]
  },
  {
   "cell_type": "code",
   "execution_count": 14,
   "metadata": {},
   "outputs": [
    {
     "name": "stdout",
     "output_type": "stream",
     "text": [
      "<class 'pandas.core.frame.DataFrame'>\n",
      "Index: 185041 entries, 37126 to 137323\n",
      "Data columns (total 4 columns):\n",
      " #   Column     Non-Null Count   Dtype         \n",
      "---  ------     --------------   -----         \n",
      " 0   userID     185041 non-null  int32         \n",
      " 1   itemID     185041 non-null  int32         \n",
      " 2   rating     185041 non-null  int64         \n",
      " 3   timestamp  185041 non-null  datetime64[ns]\n",
      "dtypes: datetime64[ns](1), int32(2), int64(1)\n",
      "memory usage: 5.6 MB\n"
     ]
    }
   ],
   "source": [
    "train.info()"
   ]
  },
  {
   "cell_type": "code",
   "execution_count": 15,
   "metadata": {},
   "outputs": [
    {
     "name": "stderr",
     "output_type": "stream",
     "text": [
      "INFO:recommenders.models.ncf.dataset:Indexing ./train.csv ...\n",
      "INFO:recommenders.models.ncf.dataset:Indexing ./test.csv ...\n",
      "INFO:recommenders.models.ncf.dataset:Indexing ./test_full.csv ...\n"
     ]
    }
   ],
   "source": [
    "TOP_K = 10\n",
    "\n",
    "# Select MovieLens data size: 100k, 1m, 10m, or 20m\n",
    "#MOVIELENS_DATA_SIZE = '100k'\n",
    "\n",
    "# Model parameters\n",
    "EPOCHS = 5\n",
    "BATCH_SIZE = 256\n",
    "\n",
    "SEED = 42\n",
    "data = NCFDataset(train_file=train_file, test_file=test_file, seed=SEED)"
   ]
  },
  {
   "cell_type": "code",
   "execution_count": 16,
   "metadata": {},
   "outputs": [
    {
     "name": "stderr",
     "output_type": "stream",
     "text": [
      "C:\\Users\\gassaf\\Documents\\3_Personal_Documents\\LAU\\Course11_Recommender_Systems\\Final_Project\\pyenv_310\\lib\\site-packages\\tensorflow\\python\\keras\\engine\\base_layer_v1.py:1697: UserWarning: `layer.apply` is deprecated and will be removed in a future version. Please use `layer.__call__` method instead.\n",
      "  warnings.warn('`layer.apply` is deprecated and '\n"
     ]
    }
   ],
   "source": [
    "model = NCF (\n",
    "    n_users=data.n_users, \n",
    "    n_items=data.n_items,\n",
    "    model_type=\"NeuMF\",\n",
    "    n_factors=4,\n",
    "    layer_sizes=[16,8,4],\n",
    "    n_epochs=EPOCHS,\n",
    "    batch_size=BATCH_SIZE,\n",
    "    learning_rate=1e-3,\n",
    "    verbose=10,\n",
    "    seed=SEED\n",
    ")"
   ]
  },
  {
   "cell_type": "code",
   "execution_count": null,
   "metadata": {},
   "outputs": [],
   "source": []
  },
  {
   "cell_type": "code",
   "execution_count": 17,
   "metadata": {},
   "outputs": [
    {
     "data": {
      "text/plain": [
       "<recommenders.models.ncf.dataset.Dataset at 0x28ebf0c0940>"
      ]
     },
     "execution_count": 17,
     "metadata": {},
     "output_type": "execute_result"
    }
   ],
   "source": [
    "data"
   ]
  },
  {
   "cell_type": "code",
   "execution_count": 18,
   "metadata": {},
   "outputs": [
    {
     "name": "stdout",
     "output_type": "stream",
     "text": [
      "Took 191.1677 seconds for training.\n"
     ]
    }
   ],
   "source": [
    "with Timer() as train_time:\n",
    "    model.fit(data)\n",
    "\n",
    "print(\"Took {} seconds for training.\".format(train_time))"
   ]
  },
  {
   "cell_type": "code",
   "execution_count": 19,
   "metadata": {},
   "outputs": [
    {
     "name": "stdout",
     "output_type": "stream",
     "text": [
      "Took 327.8661 seconds for prediction.\n"
     ]
    }
   ],
   "source": [
    "with Timer() as test_time:\n",
    "    users, items, preds = [], [], []\n",
    "    item = list(train.itemID.unique())\n",
    "    for user in train.userID.unique():\n",
    "        user = [user] * len(item)\n",
    "        users.extend(user)\n",
    "        items.extend(item)\n",
    "        preds.extend(list(model.predict(user, item, is_list=True)))\n",
    "\n",
    "    all_predictions = pd.DataFrame(data={\"userID\": users, \"itemID\":items, \"prediction\":preds})\n",
    "\n",
    "    merged = pd.merge(train, all_predictions, on=[\"userID\", \"itemID\"], how=\"outer\")\n",
    "    all_predictions = merged[merged.rating.isnull()].drop('rating', axis=1)\n",
    "\n",
    "print(\"Took {} seconds for prediction.\".format(test_time))"
   ]
  },
  {
   "cell_type": "code",
   "execution_count": 20,
   "metadata": {},
   "outputs": [
    {
     "name": "stdout",
     "output_type": "stream",
     "text": [
      "MAP:\t0.028861\n",
      "NDCG:\t0.068375\n",
      "Precision@K:\t0.045769\n",
      "Recall@K:\t0.048933\n"
     ]
    }
   ],
   "source": [
    "eval_map = map_at_k(test, all_predictions, col_prediction='prediction', k=TOP_K)\n",
    "eval_ndcg = ndcg_at_k(test, all_predictions, col_prediction='prediction', k=TOP_K)\n",
    "eval_precision = precision_at_k(test, all_predictions, col_prediction='prediction', k=TOP_K)\n",
    "eval_recall = recall_at_k(test, all_predictions, col_prediction='prediction', k=TOP_K)\n",
    "\n",
    "print(\"MAP:\\t%f\" % eval_map,\n",
    "      \"NDCG:\\t%f\" % eval_ndcg,\n",
    "      \"Precision@K:\\t%f\" % eval_precision,\n",
    "      \"Recall@K:\\t%f\" % eval_recall, sep='\\n')"
   ]
  },
  {
   "cell_type": "code",
   "execution_count": 21,
   "metadata": {},
   "outputs": [],
   "source": [
    "df_order = pd.read_excel('Rec_sys_data.xlsx', 'order')\n",
    "df_customer = pd.read_excel('Rec_sys_data.xlsx', 'customer')"
   ]
  },
  {
   "cell_type": "code",
   "execution_count": null,
   "metadata": {},
   "outputs": [],
   "source": []
  },
  {
   "cell_type": "code",
   "execution_count": 22,
   "metadata": {},
   "outputs": [],
   "source": [
    "df_product = pd.read_excel('Rec_sys_data.xlsx', 'product')"
   ]
  },
  {
   "cell_type": "code",
   "execution_count": 23,
   "metadata": {},
   "outputs": [],
   "source": [
    "all_predictions = all_predictions[['userID','itemID','prediction']]"
   ]
  },
  {
   "cell_type": "code",
   "execution_count": 24,
   "metadata": {},
   "outputs": [],
   "source": [
    "all_predictions = all_predictions.rename(columns={\n",
    "\n",
    "    \"userID\":'CustomerID',\"itemID\":'StockCode',\"rating\":'Quantity','prediction':'probability'\n",
    "\n",
    "})"
   ]
  },
  {
   "cell_type": "code",
   "execution_count": 25,
   "metadata": {},
   "outputs": [],
   "source": [
    "def recommend_product(customer_id):\n",
    "\n",
    "  print(\" \\n---------- Top 10 Bought StockCodes -----------\\n\")\n",
    "\n",
    "\n",
    "  print(df_order[df_order['CustomerID']==customer_id][['CustomerID','StockCode','Quantity']].nlargest(10,'Quantity'))\n",
    "\n",
    "  top_10_bought = df_order[df_order['CustomerID']==customer_id][['CustomerID','StockCode','Quantity']].nlargest(10,'Quantity')\n",
    "\n",
    "  print('\\n-------Product Name of bought StockCodes ------\\n')\n",
    "    \n",
    "  print(\"len\",len(top_10_bought))\n",
    "  print(df_product[df_product.StockCode.isin(top_10_bought.StockCode)]['Product Name'])\n",
    "\n",
    "\n",
    "  print(\"\\n --------- Top 10 Recommendations ------------ \\n\")\n",
    "\n",
    "  print(all_predictions[all_predictions['CustomerID']==customer_id].nlargest(10,'probability'))\n",
    "\n",
    "  recommend = all_predictions[all_predictions['CustomerID']==customer_id].nlargest(10,'probability')\n",
    "\n",
    "  print('\\n-------Product Name of Recommendations ------\\n')\n",
    "\n",
    "  print(df_product[df_product.StockCode.isin(recommend.StockCode)]['Product Name'])\n"
   ]
  },
  {
   "cell_type": "code",
   "execution_count": 26,
   "metadata": {
    "scrolled": true
   },
   "outputs": [
    {
     "name": "stdout",
     "output_type": "stream",
     "text": [
      " \n",
      "---------- Top 10 Bought StockCodes -----------\n",
      "\n",
      "        CustomerID StockCode  Quantity\n",
      "266565       16923     21809       192\n",
      "89211        16923     22294       120\n",
      "122279       16923     22294        72\n",
      "227311       16923     22294        72\n",
      "148095       16923     22294        48\n",
      "179098       16923     22294        48\n",
      "132560       16923     21260        40\n",
      "141191       16923     22494        40\n",
      "16095        16923     22969        24\n",
      "148186       16923     22698        24\n",
      "\n",
      "-------Product Name of bought StockCodes ------\n",
      "\n",
      "len 10\n",
      "468           Window Tint Film Mitsubishi (all doors) DIY\n",
      "1333    Mitsubishi Spyder AC10812 Northstar White Gall...\n",
      "1365    Business Essentials 8\" x 8\" x 5\" Corrugated Ma...\n",
      "1619    Dove Advanced Care Antiperspirant Deodorant Or...\n",
      "1833    MightySkins Skin Decal Wrap Compatible with HP...\n",
      "2610    TExES Bilingual Education Supplemental (164) S...\n",
      "Name: Product Name, dtype: object\n",
      "\n",
      " --------- Top 10 Recommendations ------------ \n",
      "\n",
      "         CustomerID  StockCode  probability\n",
      "7506007       16923      22722     0.858657\n",
      "7506823       16923      47566     0.840295\n",
      "7506830       16923      48138     0.830627\n",
      "7506833       16923      48187     0.829760\n",
      "7505894       16923      22666     0.820374\n",
      "7504458       16923      20685     0.817392\n",
      "7506895       16923      82484     0.812632\n",
      "7506552       16923      23284     0.811819\n",
      "7506011       16923      22727     0.800045\n",
      "7505431       16923      22191     0.796248\n",
      "\n",
      "-------Product Name of Recommendations ------\n",
      "\n",
      "103               Window Tint Film Chevy (back doors) DIY\n",
      "241     Port Company PC61 Traditional MenÃ¢â‚¬s T-Shir...\n",
      "361     Eye Buy Express Kids Childrens Reading Glasses...\n",
      "509     Halloween Bats Wall Decal - Wall Sticker, Viny...\n",
      "537     Gillette Sensor Refill Blade Cartridges, 10 Co...\n",
      "976     Ultra Sleek And Spacious Pearl White Lacquer 1...\n",
      "1048    Port Authority K110 Dry Zone UV Micro-Mesh Pol...\n",
      "1107    Dynarex - Itch Relief - 1% Strength Cream - 72...\n",
      "1170    Ebe Reading Glasses Mens Womens Tortoise Recta...\n",
      "1575    Mediven Sheer and Soft 15-20 mmHg Thigh w/ Lac...\n",
      "Name: Product Name, dtype: object\n"
     ]
    }
   ],
   "source": [
    "recommend_product(16923)"
   ]
  },
  {
   "cell_type": "code",
   "execution_count": 27,
   "metadata": {
    "scrolled": true
   },
   "outputs": [
    {
     "name": "stdout",
     "output_type": "stream",
     "text": [
      " \n",
      "---------- Top 10 Bought StockCodes -----------\n",
      "\n",
      "      CustomerID StockCode  Quantity\n",
      "285        17850    82494L        12\n",
      "2629       17850    85123A        12\n",
      "2634       17850     71053        12\n",
      "2978       17850     71053        12\n",
      "2983       17850    85123A        12\n",
      "3299       17850     71053        12\n",
      "3301       17850     21068        12\n",
      "3302       17850    84029G        12\n",
      "3303       17850    85123A        12\n",
      "3305       17850     37370        12\n",
      "\n",
      "-------Product Name of bought StockCodes ------\n",
      "\n",
      "len 10\n",
      "135    Mediven Sheer and Soft 15-20 mmHg Thigh w/ Lac...\n",
      "162    Heavy Duty Handlebar Motorcycle Mount Holder K...\n",
      "179           AARCO Enclosed Wall Mounted Bulletin Board\n",
      "436    MightySkins Skin Decal Wrap Compatible with Ni...\n",
      "669    3 1/2\"W x 20\"D x 20\"H Funston Craftsman Smooth...\n",
      "967    Awkward Styles Shamrock Flag St. Patrick's Day...\n",
      "Name: Product Name, dtype: object\n",
      "\n",
      " --------- Top 10 Recommendations ------------ \n",
      "\n",
      "         CustomerID  StockCode  probability\n",
      "8944554       17850      85152     0.972730\n",
      "8942207       17850      21181     0.940966\n",
      "8942205       17850      21175     0.935402\n",
      "8943704       17850      22998     0.931766\n",
      "8944553       17850      85150     0.925132\n",
      "8942199       17850      21166     0.924473\n",
      "8942654       17850      21868     0.909058\n",
      "8944367       17850      82582     0.908072\n",
      "8944368       17850      82583     0.907788\n",
      "8942201       17850      21169     0.895128\n",
      "\n",
      "-------Product Name of Recommendations ------\n",
      "\n",
      "87      MightySkins Skin Decal Wrap Compatible with DJ...\n",
      "244     3 1/2\"W x 20\"D x 20\"H Funston Craftsman Smooth...\n",
      "290     MightySkins Skin Decal Wrap Compatible with DJ...\n",
      "374     MightySkins Protective Vinyl Skin Decal for Po...\n",
      "476     I Love my Stepmother- sun and rainbow letters ...\n",
      "596     Replacement for OLYMPUS C-8080 replacement bat...\n",
      "642     Ebe Men Gold Shield Half Rim Spring Hinge Read...\n",
      "770     Ebe Reading Glasses Mens Womens Blue Silver Te...\n",
      "1066    Election 2016 Keep Calm and Vote Santorum Blac...\n",
      "1450    6 1/4 x 6 1/4 Gatefold Invitation - Mandarin O...\n",
      "Name: Product Name, dtype: object\n"
     ]
    }
   ],
   "source": [
    "recommend_product(17850)"
   ]
  },
  {
   "cell_type": "code",
   "execution_count": 28,
   "metadata": {
    "scrolled": true
   },
   "outputs": [
    {
     "name": "stdout",
     "output_type": "stream",
     "text": [
      " \n",
      "---------- Top 10 Bought StockCodes -----------\n",
      "\n",
      "        CustomerID StockCode  Quantity\n",
      "175575       14034     22576        48\n",
      "175581       14034     21810        48\n",
      "175562       14034     23212        36\n",
      "175582       14034     22130        30\n",
      "175563       14034     21824        24\n",
      "175568       14034     22578        16\n",
      "175576       14034     22855        12\n",
      "175580       14034     22599        12\n",
      "175571       14034     22574        10\n",
      "175603       14034     23212        10\n",
      "\n",
      "-------Product Name of bought StockCodes ------\n",
      "\n",
      "len 10\n",
      "1266         Artist Watercolor viridian, 5 ml (pack of 2)\n",
      "1302    6pc Boy Formal Necktie Black & White Suit Set ...\n",
      "1341    Ebe Reading Glasses Mens Womens Gold Harry Pot...\n",
      "1785    MightySkins Skin Decal Wrap Compatible with HP...\n",
      "1791    MightySkins Skin Decal Wrap Compatible with Go...\n",
      "1913    CafePress - Spider-Man Teacher - Women's Dark ...\n",
      "1944    3 1/2\"W x 20\"D x 20\"H Funston Craftsman Smooth...\n",
      "2091    Ecclesiastes 8:15 so I commend the enjoymentÃ¢...\n",
      "2803         2019 Minecraft (Bilingual FRE) Wall Calendar\n",
      "Name: Product Name, dtype: object\n",
      "\n",
      " --------- Top 10 Recommendations ------------ \n",
      "\n",
      "         CustomerID  StockCode  probability\n",
      "2810898       14034      21818     0.848634\n",
      "2810405       14034      21034     0.795773\n",
      "2811743       14034      22810     0.791898\n",
      "2811521       14034      22579     0.791861\n",
      "2810468       14034      21143     0.785806\n",
      "2810900       14034      21820     0.780014\n",
      "2810903       14034      21823     0.775088\n",
      "2811139       14034      22156     0.773377\n",
      "2810891       14034      21811     0.771671\n",
      "2810897       14034      21817     0.765609\n",
      "\n",
      "-------Product Name of Recommendations ------\n",
      "\n",
      "129     MightySkins Skin Decal Wrap Compatible with Ap...\n",
      "215     MightySkins Skin Decal Wrap Compatible with Ap...\n",
      "341                           4Legs4Pets by Mahar Pet Cot\n",
      "601     MightySkins Protective Vinyl Skin Decal for YE...\n",
      "1117             Women's Aerosoles Spin Cycle Ballet Flat\n",
      "1161    Awesome Live Love Crew Rowing Large Graphic Wo...\n",
      "1220    Port Authority J335 Hooded Core Soft Shell Jac...\n",
      "1941    Eddie Bauer Women's Favorite Long-Sleeve Crewn...\n",
      "1983    Bone Shaped American Flag Screen Print Shirts ...\n",
      "2200    Handcrafted Ercolano Music Box Featuring \"Lunc...\n",
      "Name: Product Name, dtype: object\n"
     ]
    }
   ],
   "source": [
    "recommend_product(14034)"
   ]
  },
  {
   "cell_type": "code",
   "execution_count": 29,
   "metadata": {
    "scrolled": true
   },
   "outputs": [
    {
     "name": "stdout",
     "output_type": "stream",
     "text": [
      " \n",
      "---------- Top 10 Bought StockCodes -----------\n",
      "\n",
      "        CustomerID StockCode  Quantity\n",
      "141898       14985     21294        48\n",
      "141907       14985     22713        24\n",
      "141912       14985     21034        20\n",
      "23149        14985     16236        12\n",
      "141908       14985     15034        12\n",
      "141897       14985     21746         8\n",
      "23142        14985     21034         7\n",
      "23160        14985     21642         7\n",
      "23115        14985     21644         6\n",
      "141905       14985     20724         5\n",
      "\n",
      "-------Product Name of bought StockCodes ------\n",
      "\n",
      "len 10\n",
      "215     MightySkins Skin Decal Wrap Compatible with Ap...\n",
      "566     ML7-6 6V 7AH REPLACEMENT BATTERY FOR UPSONIC U...\n",
      "883     Seachrome Lifestyle & Wellness Left Hand Zuma ...\n",
      "1374    MightySkins Skin Decal Wrap Compatible with Sm...\n",
      "1596    Ebe Reading Glasses Mens Womens Black Blue Ret...\n",
      "1878    Dr. Comfort Paradise Women's Casual Shoe: 4.5 ...\n",
      "1910    Urbane Urbane Classic Crossover Scrub Top Scru...\n",
      "1920    3 1/2\"W x 20\"D x 20\"H Funston Craftsman Smooth...\n",
      "2175    MightySkins Skin Decal Wrap Compatible with DJ...\n",
      "Name: Product Name, dtype: object\n",
      "\n",
      " --------- Top 10 Recommendations ------------ \n",
      "\n",
      "         CustomerID  StockCode  probability\n",
      "4348068       14985      21829     0.754225\n",
      "4348291       14985      22147     0.730068\n",
      "4348666       14985      22562     0.727604\n",
      "4347542       14985      20992     0.726789\n",
      "4347352       14985      16237     0.716228\n",
      "4349908       14985      85227     0.687910\n",
      "4347543       14985      20996     0.659476\n",
      "4348658       14985      22554     0.654310\n",
      "4348285       14985      22138     0.651861\n",
      "4348656       14985      22551     0.647862\n",
      "\n",
      "-------Product Name of Recommendations ------\n",
      "\n",
      "142     Ebe Reading Glasses Mens Womens Gold Harry Pot...\n",
      "208     Port Authority J335 Hooded Core Soft Shell Jac...\n",
      "332     USB 2.0 Cable - A-Male to B-Male for Kodak Sca...\n",
      "957     Eye Buy Express Kids Childrens Reading Glasses...\n",
      "995     MightySkins Skin Decal Wrap Compatible with Le...\n",
      "1152    GI Joe Frostbite Arctic Operations Specialist ...\n",
      "1174    Halloween Bats Wall Decal - Wall Sticker, Viny...\n",
      "1222    Port Authority K110 Dry Zone UV Micro-Mesh Pol...\n",
      "1589    MightySkins Skin Decal Wrap Compatible with Ap...\n",
      "2609    Handcrafted Ercolano Music Box Featuring \"Lunc...\n",
      "Name: Product Name, dtype: object\n"
     ]
    }
   ],
   "source": [
    "recommend_product(14985)"
   ]
  },
  {
   "cell_type": "code",
   "execution_count": 30,
   "metadata": {
    "scrolled": true
   },
   "outputs": [
    {
     "name": "stdout",
     "output_type": "stream",
     "text": [
      " \n",
      "---------- Top 10 Bought StockCodes -----------\n",
      "\n",
      "        CustomerID StockCode  Quantity\n",
      "234414       13137     84077        48\n",
      "234443       13137     23321        13\n",
      "50797        13137     21985        12\n",
      "234404       13137     22296        12\n",
      "234418       13137     22297        12\n",
      "94857        13137     20726        10\n",
      "94868        13137     20725        10\n",
      "94875        13137     22662        10\n",
      "94883        13137     22285        10\n",
      "94892        13137     22270        10\n",
      "\n",
      "-------Product Name of bought StockCodes ------\n",
      "\n",
      "len 10\n",
      "70      MightySkins Skin Decal Wrap Compatible with Li...\n",
      "165     Ebe Men Black Rectangle Half Rim Spring Hinge ...\n",
      "202                 billyboards Porcelain Menu Chalkboard\n",
      "490           Window Tint Film Mitsubishi (all doors) DIY\n",
      "694     Harriton Men's Paradise Short-Sleeve Performan...\n",
      "935     MightySkins Skin Decal Wrap Compatible with Ap...\n",
      "1065    MightySkins Skin For Samsung Galaxy J3 (2016),...\n",
      "1339    MightySkins Skin Decal Wrap Compatible with Le...\n",
      "1456    Private Property No Unauthorized Parking Restr...\n",
      "1485    MightySkins Skin Decal Wrap Compatible with Le...\n",
      "Name: Product Name, dtype: object\n",
      "\n",
      " --------- Top 10 Recommendations ------------ \n",
      "\n",
      "         CustomerID  StockCode  probability\n",
      "1354297       13137      22383     0.904659\n",
      "1353164       13137      20724     0.880859\n",
      "1354122       13137      22197     0.856357\n",
      "1355666       13137      84991     0.836572\n",
      "1353446       13137      21232     0.824135\n",
      "1355441       13137      47566     0.823486\n",
      "1353348       13137      21094     0.823237\n",
      "1353653       13137      21559     0.812030\n",
      "1354270       13137      22356     0.785145\n",
      "1353163       13137      20723     0.780716\n",
      "\n",
      "-------Product Name of Recommendations ------\n",
      "\n",
      "33           Rosalind Wheeler Wall Mounted Bulletin Board\n",
      "58      Buckle-Down PC-W30348-NM Cameroon Flags Plasti...\n",
      "155               Window Tint Film Chevy (back doors) DIY\n",
      "193     Ultra Sleek And Spacious Pearl White Lacquer 1...\n",
      "236     MightySkins Skin Decal Wrap Compatible with HP...\n",
      "561                 Wicked Colors grey, 2 oz. (pack of 3)\n",
      "566     ML7-6 6V 7AH REPLACEMENT BATTERY FOR UPSONIC U...\n",
      "1012    Pterosaur Wall Decal - dinosaur wall decal, st...\n",
      "1048    Port Authority K110 Dry Zone UV Micro-Mesh Pol...\n",
      "1163    New Way 1120 - Crewneck Your Job Could Be Wors...\n",
      "Name: Product Name, dtype: object\n"
     ]
    }
   ],
   "source": [
    "recommend_product(13137)"
   ]
  },
  {
   "cell_type": "code",
   "execution_count": null,
   "metadata": {},
   "outputs": [],
   "source": []
  },
  {
   "cell_type": "code",
   "execution_count": null,
   "metadata": {},
   "outputs": [],
   "source": []
  },
  {
   "cell_type": "code",
   "execution_count": null,
   "metadata": {},
   "outputs": [],
   "source": []
  },
  {
   "cell_type": "code",
   "execution_count": null,
   "metadata": {},
   "outputs": [],
   "source": []
  },
  {
   "cell_type": "markdown",
   "metadata": {
    "id": "06lNrA-IjsPR"
   },
   "source": [
    "# Step 3: Discussion of Results [20 points]\n",
    "\n",
    "Discuss the performance of the GCNN model compared to the Feedforward NeuMF model. Provide insights on which model performs better and why, based on the evaluation metrics. Consider aspects like Precision@K, Recall@K, and F1 score.\n",
    "\n",
    "Compare the recommended items for Customer 17850 generated by your model with those recommended by Neo4j. Are there similarities between the two sets of recommendations?"
   ]
  },
  {
   "cell_type": "markdown",
   "metadata": {},
   "source": [
    "<b> Intepretation about performance metric of GCNN </b> <br>\n",
    "<b> Discussion about the NeuMF performance metrics:</b>\n",
    "\n",
    "MAP (0.0289) indicates a relatively low mean average precision, suggesting the model struggles to rank relevant items consistently high.\n",
    "\n",
    "NDCG (0.0684) shows limited effectiveness in placing relevant recommendations near the top of the list.\n",
    "\n",
    "Precision@K (0.0458) and Recall@K (0.0489) are also modest, reflecting that only about 4–5% of the top-K recommended items are relevant and that the model retrieves a small fraction of all possible relevant items.\n",
    "\n",
    "These results suggest room for improvement. You might explore tuning hyperparameters, increasing embedding size, or incorporating additional user/item features to enhance performance."
   ]
  },
  {
   "cell_type": "code",
   "execution_count": null,
   "metadata": {},
   "outputs": [],
   "source": []
  },
  {
   "cell_type": "markdown",
   "metadata": {},
   "source": [
    "# n_factor=16"
   ]
  },
  {
   "cell_type": "code",
   "execution_count": 31,
   "metadata": {},
   "outputs": [
    {
     "name": "stderr",
     "output_type": "stream",
     "text": [
      "C:\\Users\\gassaf\\Documents\\3_Personal_Documents\\LAU\\Course11_Recommender_Systems\\Final_Project\\pyenv_310\\lib\\site-packages\\tensorflow\\python\\keras\\engine\\base_layer_v1.py:1697: UserWarning: `layer.apply` is deprecated and will be removed in a future version. Please use `layer.__call__` method instead.\n",
      "  warnings.warn('`layer.apply` is deprecated and '\n"
     ]
    }
   ],
   "source": [
    "model_nfactor16 = NCF (\n",
    "    n_users=data.n_users, \n",
    "    n_items=data.n_items,\n",
    "    model_type=\"NeuMF\",\n",
    "    n_factors=16,\n",
    "    layer_sizes=[16,8,4],\n",
    "    n_epochs=EPOCHS,\n",
    "    batch_size=BATCH_SIZE,\n",
    "    learning_rate=1e-3,\n",
    "    verbose=10,\n",
    "    seed=SEED\n",
    ")"
   ]
  },
  {
   "cell_type": "code",
   "execution_count": 32,
   "metadata": {},
   "outputs": [
    {
     "name": "stdout",
     "output_type": "stream",
     "text": [
      "Took 197.6129 seconds for training.\n"
     ]
    }
   ],
   "source": [
    "with Timer() as train_time:\n",
    "    model_nfactor16.fit(data)\n",
    "\n",
    "print(\"Took {} seconds for training.\".format(train_time))"
   ]
  },
  {
   "cell_type": "code",
   "execution_count": 33,
   "metadata": {},
   "outputs": [
    {
     "name": "stdout",
     "output_type": "stream",
     "text": [
      "Took 328.2233 seconds for prediction.\n"
     ]
    }
   ],
   "source": [
    "with Timer() as test_time:\n",
    "    users, items, preds = [], [], []\n",
    "    item = list(train.itemID.unique())\n",
    "    for user in train.userID.unique():\n",
    "        user = [user] * len(item)\n",
    "        users.extend(user)\n",
    "        items.extend(item)\n",
    "        preds.extend(list(model_nfactor16.predict(user, item, is_list=True)))\n",
    "\n",
    "    all_predictions = pd.DataFrame(data={\"userID\": users, \"itemID\":items, \"prediction\":preds})\n",
    "\n",
    "    merged = pd.merge(train, all_predictions, on=[\"userID\", \"itemID\"], how=\"outer\")\n",
    "    all_predictions = merged[merged.rating.isnull()].drop('rating', axis=1)\n",
    "\n",
    "print(\"Took {} seconds for prediction.\".format(test_time))"
   ]
  },
  {
   "cell_type": "code",
   "execution_count": 34,
   "metadata": {},
   "outputs": [
    {
     "name": "stdout",
     "output_type": "stream",
     "text": [
      "MAP:\t0.044282\n",
      "NDCG:\t0.094738\n",
      "Precision@K:\t0.060949\n",
      "Recall@K:\t0.075899\n"
     ]
    }
   ],
   "source": [
    "eval_map = map_at_k(test, all_predictions, col_prediction='prediction', k=TOP_K)\n",
    "eval_ndcg = ndcg_at_k(test, all_predictions, col_prediction='prediction', k=TOP_K)\n",
    "eval_precision = precision_at_k(test, all_predictions, col_prediction='prediction', k=TOP_K)\n",
    "eval_recall = recall_at_k(test, all_predictions, col_prediction='prediction', k=TOP_K)\n",
    "\n",
    "print(\"MAP:\\t%f\" % eval_map,\n",
    "      \"NDCG:\\t%f\" % eval_ndcg,\n",
    "      \"Precision@K:\\t%f\" % eval_precision,\n",
    "      \"Recall@K:\\t%f\" % eval_recall, sep='\\n')"
   ]
  },
  {
   "cell_type": "code",
   "execution_count": 35,
   "metadata": {},
   "outputs": [],
   "source": [
    "df_order = pd.read_excel('Rec_sys_data.xlsx', 'order')\n",
    "df_customer = pd.read_excel('Rec_sys_data.xlsx', 'customer')"
   ]
  },
  {
   "cell_type": "code",
   "execution_count": 36,
   "metadata": {},
   "outputs": [],
   "source": [
    "df_product = pd.read_excel('Rec_sys_data.xlsx', 'product')"
   ]
  },
  {
   "cell_type": "code",
   "execution_count": 37,
   "metadata": {},
   "outputs": [],
   "source": [
    "all_predictions = all_predictions[['userID','itemID','prediction']]"
   ]
  },
  {
   "cell_type": "code",
   "execution_count": 38,
   "metadata": {},
   "outputs": [],
   "source": [
    "all_predictions = all_predictions.rename(columns={\n",
    "\n",
    "    \"userID\":'CustomerID',\"itemID\":'StockCode',\"rating\":'Quantity','prediction':'probability'\n",
    "\n",
    "})"
   ]
  },
  {
   "cell_type": "markdown",
   "metadata": {},
   "source": [
    "# n_factor=32"
   ]
  },
  {
   "cell_type": "code",
   "execution_count": 39,
   "metadata": {},
   "outputs": [
    {
     "name": "stderr",
     "output_type": "stream",
     "text": [
      "C:\\Users\\gassaf\\Documents\\3_Personal_Documents\\LAU\\Course11_Recommender_Systems\\Final_Project\\pyenv_310\\lib\\site-packages\\tensorflow\\python\\keras\\engine\\base_layer_v1.py:1697: UserWarning: `layer.apply` is deprecated and will be removed in a future version. Please use `layer.__call__` method instead.\n",
      "  warnings.warn('`layer.apply` is deprecated and '\n"
     ]
    }
   ],
   "source": [
    "model_nfactor32 = NCF (\n",
    "    n_users=data.n_users, \n",
    "    n_items=data.n_items,\n",
    "    model_type=\"NeuMF\",\n",
    "    n_factors=32,\n",
    "    layer_sizes=[16,8,4],\n",
    "    n_epochs=EPOCHS,\n",
    "    batch_size=BATCH_SIZE,\n",
    "    learning_rate=1e-3,\n",
    "    verbose=10,\n",
    "    seed=SEED\n",
    ")"
   ]
  },
  {
   "cell_type": "code",
   "execution_count": 40,
   "metadata": {},
   "outputs": [
    {
     "name": "stdout",
     "output_type": "stream",
     "text": [
      "Took 217.2573 seconds for training.\n"
     ]
    }
   ],
   "source": [
    "with Timer() as train_time:\n",
    "    model_nfactor32.fit(data)\n",
    "\n",
    "print(\"Took {} seconds for training.\".format(train_time))"
   ]
  },
  {
   "cell_type": "code",
   "execution_count": 41,
   "metadata": {},
   "outputs": [
    {
     "name": "stdout",
     "output_type": "stream",
     "text": [
      "Took 326.0792 seconds for prediction.\n"
     ]
    }
   ],
   "source": [
    "with Timer() as test_time:\n",
    "    users, items, preds = [], [], []\n",
    "    item = list(train.itemID.unique())\n",
    "    for user in train.userID.unique():\n",
    "        user = [user] * len(item)\n",
    "        users.extend(user)\n",
    "        items.extend(item)\n",
    "        preds.extend(list(model_nfactor32.predict(user, item, is_list=True)))\n",
    "\n",
    "    all_predictions = pd.DataFrame(data={\"userID\": users, \"itemID\":items, \"prediction\":preds})\n",
    "\n",
    "    merged = pd.merge(train, all_predictions, on=[\"userID\", \"itemID\"], how=\"outer\")\n",
    "    all_predictions = merged[merged.rating.isnull()].drop('rating', axis=1)\n",
    "\n",
    "print(\"Took {} seconds for prediction.\".format(test_time))"
   ]
  },
  {
   "cell_type": "code",
   "execution_count": 42,
   "metadata": {},
   "outputs": [
    {
     "name": "stdout",
     "output_type": "stream",
     "text": [
      "MAP:\t0.053632\n",
      "NDCG:\t0.111667\n",
      "Precision@K:\t0.069525\n",
      "Recall@K:\t0.092856\n"
     ]
    }
   ],
   "source": [
    "eval_map = map_at_k(test, all_predictions, col_prediction='prediction', k=TOP_K)\n",
    "eval_ndcg = ndcg_at_k(test, all_predictions, col_prediction='prediction', k=TOP_K)\n",
    "eval_precision = precision_at_k(test, all_predictions, col_prediction='prediction', k=TOP_K)\n",
    "eval_recall = recall_at_k(test, all_predictions, col_prediction='prediction', k=TOP_K)\n",
    "\n",
    "print(\"MAP:\\t%f\" % eval_map,\n",
    "      \"NDCG:\\t%f\" % eval_ndcg,\n",
    "      \"Precision@K:\\t%f\" % eval_precision,\n",
    "      \"Recall@K:\\t%f\" % eval_recall, sep='\\n')"
   ]
  },
  {
   "cell_type": "code",
   "execution_count": 43,
   "metadata": {},
   "outputs": [],
   "source": [
    "df_order = pd.read_excel('Rec_sys_data.xlsx', 'order')\n",
    "df_customer = pd.read_excel('Rec_sys_data.xlsx', 'customer')"
   ]
  },
  {
   "cell_type": "code",
   "execution_count": 44,
   "metadata": {},
   "outputs": [],
   "source": [
    "df_product = pd.read_excel('Rec_sys_data.xlsx', 'product')"
   ]
  },
  {
   "cell_type": "code",
   "execution_count": 45,
   "metadata": {},
   "outputs": [],
   "source": [
    "all_predictions = all_predictions[['userID','itemID','prediction']]"
   ]
  },
  {
   "cell_type": "code",
   "execution_count": 46,
   "metadata": {},
   "outputs": [],
   "source": [
    "all_predictions = all_predictions.rename(columns={\n",
    "\n",
    "    \"userID\":'CustomerID',\"itemID\":'StockCode',\"rating\":'Quantity','prediction':'probability'\n",
    "\n",
    "})"
   ]
  },
  {
   "cell_type": "code",
   "execution_count": null,
   "metadata": {},
   "outputs": [],
   "source": []
  },
  {
   "cell_type": "code",
   "execution_count": null,
   "metadata": {},
   "outputs": [],
   "source": []
  },
  {
   "cell_type": "code",
   "execution_count": null,
   "metadata": {},
   "outputs": [],
   "source": []
  }
 ],
 "metadata": {
  "colab": {
   "provenance": []
  },
  "kernelspec": {
   "display_name": "Python 3 (ipykernel)",
   "language": "python",
   "name": "python3"
  },
  "language_info": {
   "codemirror_mode": {
    "name": "ipython",
    "version": 3
   },
   "file_extension": ".py",
   "mimetype": "text/x-python",
   "name": "python",
   "nbconvert_exporter": "python",
   "pygments_lexer": "ipython3",
   "version": "3.10.0"
  }
 },
 "nbformat": 4,
 "nbformat_minor": 4
}
